{
 "cells": [
  {
   "cell_type": "code",
   "execution_count": 1,
   "id": "22d4587d-6c24-4b36-a979-9bd4f571ff28",
   "metadata": {},
   "outputs": [
    {
     "name": "stdout",
     "output_type": "stream",
     "text": [
      "How are you doing\n"
     ]
    }
   ],
   "source": [
    "print(\"How are you doing\")"
   ]
  },
  {
   "cell_type": "code",
   "execution_count": 2,
   "id": "9841cdeb-97b0-4309-9341-7d7057df2353",
   "metadata": {},
   "outputs": [
    {
     "name": "stdout",
     "output_type": "stream",
     "text": [
      "15\n"
     ]
    }
   ],
   "source": [
    "print(10+5)"
   ]
  },
  {
   "cell_type": "code",
   "execution_count": 3,
   "id": "79a2b90a-7de0-4a86-96eb-cae3bdbd8568",
   "metadata": {},
   "outputs": [
    {
     "name": "stdout",
     "output_type": "stream",
     "text": [
      "10+5\n"
     ]
    }
   ],
   "source": [
    "print(\"10+5\")"
   ]
  },
  {
   "cell_type": "code",
   "execution_count": 4,
   "id": "b22ecaba-3f5e-4173-b531-edcf24f45fca",
   "metadata": {},
   "outputs": [
    {
     "name": "stdout",
     "output_type": "stream",
     "text": [
      "Immanuella\n"
     ]
    }
   ],
   "source": [
    "name=\"Immanuella\"\n",
    "print(name)"
   ]
  },
  {
   "cell_type": "code",
   "execution_count": 5,
   "id": "134371aa-b239-49bf-8b2c-82966fc22b5a",
   "metadata": {},
   "outputs": [
    {
     "name": "stdout",
     "output_type": "stream",
     "text": [
      "summer\n",
      "         winter\n",
      "                rain\n",
      "\n"
     ]
    }
   ],
   "source": [
    "print(\"summer\\n         winter\\n                rain\\n\")"
   ]
  },
  {
   "cell_type": "code",
   "execution_count": 9,
   "id": "30a4cdef-a168-423b-8e53-121aac0b6b19",
   "metadata": {},
   "outputs": [
    {
     "name": "stdout",
     "output_type": "stream",
     "text": [
      "Eggs|Juice|Anaconda\n"
     ]
    }
   ],
   "source": [
    "print(\"Eggs\", \"Juice\", \"Anaconda\", sep='|')"
   ]
  },
  {
   "cell_type": "code",
   "execution_count": 10,
   "id": "97b1f763-397c-4885-ae3c-59f914d73743",
   "metadata": {},
   "outputs": [
    {
     "name": "stdout",
     "output_type": "stream",
     "text": [
      "Hello youll\n",
      "100\n"
     ]
    }
   ],
   "source": [
    "#varibles\n",
    "\n",
    "a = \"Hello youll\"\n",
    "b = 100\n",
    "print(a)\n",
    "print(b)"
   ]
  },
  {
   "cell_type": "code",
   "execution_count": 1,
   "id": "658c0092-67bc-4d7a-8576-c9d26f669624",
   "metadata": {},
   "outputs": [
    {
     "name": "stdout",
     "output_type": "stream",
     "text": [
      "enter a number5\n",
      "5\n"
     ]
    }
   ],
   "source": [
    "a=input(\"enter a number\")\n",
    "print(a)"
   ]
  },
  {
   "cell_type": "code",
   "execution_count": 4,
   "id": "e3b46473",
   "metadata": {},
   "outputs": [
    {
     "name": "stdout",
     "output_type": "stream",
     "text": [
      "10\n",
      "50\n"
     ]
    }
   ],
   "source": [
    "x=50\n",
    "y=10\n",
    "temp=x\n",
    "x=y\n",
    "y=temp\n",
    "print(x)\n",
    "print(y)"
   ]
  },
  {
   "cell_type": "code",
   "execution_count": 7,
   "id": "b88e762b",
   "metadata": {},
   "outputs": [
    {
     "name": "stdout",
     "output_type": "stream",
     "text": [
      "enter the number = 56\n",
      "enter = 34\n",
      "90\n"
     ]
    }
   ],
   "source": [
    "n=int(input(\"enter the number = \"))\n",
    "m=int(input(\"enter = \"))\n",
    "sum=n+m\n",
    "print(sum)"
   ]
  },
  {
   "cell_type": "code",
   "execution_count": 6,
   "id": "d0ee91a3",
   "metadata": {},
   "outputs": [
    {
     "name": "stdout",
     "output_type": "stream",
     "text": [
      "Hello\n"
     ]
    }
   ],
   "source": [
    "print(\"Hello\")\n"
   ]
  },
  {
   "cell_type": "code",
   "execution_count": 9,
   "id": "34b2aa08",
   "metadata": {},
   "outputs": [
    {
     "name": "stdout",
     "output_type": "stream",
     "text": [
      "ur name immanuella\n"
     ]
    }
   ],
   "source": [
    "a= input(\"ur name \")"
   ]
  },
  {
   "cell_type": "code",
   "execution_count": 12,
   "id": "b1e43d87",
   "metadata": {
    "scrolled": false
   },
   "outputs": [
    {
     "name": "stdout",
     "output_type": "stream",
     "text": [
      "enter your age 67\n",
      "Please enter your name mana\n"
     ]
    }
   ],
   "source": [
    "age = int(input(\"enter your age \"))\n",
    "name = str(input(\"Please enter your name \"))\n"
   ]
  },
  {
   "cell_type": "code",
   "execution_count": 1,
   "id": "8062bea1",
   "metadata": {},
   "outputs": [
    {
     "name": "stdout",
     "output_type": "stream",
     "text": [
      "<class 'int'>\n"
     ]
    }
   ],
   "source": [
    "a=67\n",
    "print(type(a))"
   ]
  },
  {
   "cell_type": "code",
   "execution_count": 18,
   "id": "63588ebe",
   "metadata": {
    "scrolled": true
   },
   "outputs": [
    {
     "name": "stdout",
     "output_type": "stream",
     "text": [
      "laclaclac\n"
     ]
    }
   ],
   "source": [
    "a=\"Blackpink \"\n",
    "b=\"In your area\"\n",
    "print(a[1:4]*3)"
   ]
  },
  {
   "cell_type": "code",
   "execution_count": 19,
   "id": "ebcc77f7",
   "metadata": {},
   "outputs": [
    {
     "name": "stdout",
     "output_type": "stream",
     "text": [
      "15.0\n"
     ]
    }
   ],
   "source": [
    "a=15\n",
    "print(float(a))"
   ]
  },
  {
   "cell_type": "code",
   "execution_count": 23,
   "id": "1d2a5cf6",
   "metadata": {},
   "outputs": [
    {
     "name": "stdout",
     "output_type": "stream",
     "text": [
      "PIN 3114\n",
      "['3', '1', '1', '4']\n"
     ]
    }
   ],
   "source": [
    "a=input(\"PIN \")\n",
    "a=list(a)\n",
    "print(a)"
   ]
  },
  {
   "cell_type": "code",
   "execution_count": null,
   "id": "191f906f",
   "metadata": {},
   "outputs": [],
   "source": [
    "x=7\n",
    "if x > 10:\n",
    "    print(\"\")"
   ]
  },
  {
   "cell_type": "code",
   "execution_count": 5,
   "id": "30009b10",
   "metadata": {},
   "outputs": [
    {
     "name": "stdout",
     "output_type": "stream",
     "text": [
      "4\n",
      "jennie\n",
      "jisoo\n",
      "['lisa', 'jennie', 'jisoo', 'rosé', 'Blackpink', 'BTS']\n"
     ]
    },
    {
     "ename": "TypeError",
     "evalue": "'builtin_function_or_method' object is not subscriptable",
     "output_type": "error",
     "traceback": [
      "\u001b[1;31m---------------------------------------------------------------------------\u001b[0m",
      "\u001b[1;31mTypeError\u001b[0m                                 Traceback (most recent call last)",
      "Cell \u001b[1;32mIn[5], line 9\u001b[0m\n\u001b[0;32m      7\u001b[0m a\u001b[38;5;241m.\u001b[39mextend(b)\n\u001b[0;32m      8\u001b[0m \u001b[38;5;28mprint\u001b[39m(a)\n\u001b[1;32m----> 9\u001b[0m a\u001b[38;5;241m.\u001b[39mremove[\u001b[38;5;124m\"\u001b[39m\u001b[38;5;124mjisoo\u001b[39m\u001b[38;5;124m\"\u001b[39m]\n",
      "\u001b[1;31mTypeError\u001b[0m: 'builtin_function_or_method' object is not subscriptable"
     ]
    }
   ],
   "source": [
    "#index\n",
    "a = [\"lisa\", \"jennie\", \"jisoo\", \"rosé\"]\n",
    "b = [\"Blackpink\", \"BTS\"]\n",
    "print(len(a))\n",
    "print(a[1])\n",
    "print(a[-2])\n",
    "a.extend(b)\n",
    "print(a)\n",
    "a.remove[\"jisoo\"]"
   ]
  },
  {
   "cell_type": "code",
   "execution_count": 1,
   "id": "059bd7b9",
   "metadata": {},
   "outputs": [
    {
     "name": "stdout",
     "output_type": "stream",
     "text": [
      "[1 2 3 4 5]\n"
     ]
    }
   ],
   "source": [
    "import numpy as np\n",
    "\n",
    "arr = np.array([1, 2, 3, 4, 5])\n",
    "\n",
    "print(arr)"
   ]
  },
  {
   "cell_type": "code",
   "execution_count": null,
   "id": "f1f889fc",
   "metadata": {},
   "outputs": [],
   "source": []
  }
 ],
 "metadata": {
  "kernelspec": {
   "display_name": "Python 3 (ipykernel)",
   "language": "python",
   "name": "python3"
  },
  "language_info": {
   "codemirror_mode": {
    "name": "ipython",
    "version": 3
   },
   "file_extension": ".py",
   "mimetype": "text/x-python",
   "name": "python",
   "nbconvert_exporter": "python",
   "pygments_lexer": "ipython3",
   "version": "3.11.7"
  }
 },
 "nbformat": 4,
 "nbformat_minor": 5
}
